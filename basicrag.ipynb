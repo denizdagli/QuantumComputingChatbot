{
 "cells": [
  {
   "cell_type": "markdown",
   "id": "3f0dfe0b",
   "metadata": {},
   "source": [
    "PDF dosyasını yüklemek için PyPDFLoader kullanıyoruz"
   ]
  },
  {
   "cell_type": "code",
   "execution_count": 25,
   "id": "366ac13d-7129-4984-9c82-e7ca4f9d72c3",
   "metadata": {},
   "outputs": [],
   "source": [
    "from langchain_community.document_loaders import PyPDFLoader\n",
    "\n",
    "file_path = \"QUANTUM COMPUTING.pdf\"\n",
    "loader = PyPDFLoader(file_path)"
   ]
  },
  {
   "cell_type": "code",
   "execution_count": 26,
   "id": "70915ce8-3246-45de-a03f-807c4d1c05d8",
   "metadata": {},
   "outputs": [
    {
     "data": {
      "text/plain": [
       "Document(metadata={'producer': 'Aspose.Pdf.Kit for Java 4.3.0', 'creator': 'Acrobat PDFMaker 23 for Word', 'creationdate': '2023-07-31T13:50:09-04:00', 'author': 'Boyle, Kathleen [ICG-CGI]', 'basewrap': 'CIRB1130', 'ciradocversion': '2016', 'company': 'CITI', 'documentlcid': '1033', 'favesessionid': '41341115-d617-4955-b016-b8d6122842eb', 'gps': 'GPS', 'gpstext': 'GLOBAL POTENTIAL SOURCES', 'keywords': 'URL1=https://www.citivelocity.com/rendition/authfilelinksvcs/eppublic/V1/file?paramData=ZmlsZU5hbWU9L2dwcy9yc2NoX3BkZl8zMDE3MTA5Mi5wZGYmcGxhdGZvcm1JZD00Ng&&URL2=https://www.citivelocity.com/rendition/authfilelinksvcs/eppublic/V1/file?paramData=ZmlsZU5hbWU9L2dwcy9yc2NoX3BkZl8zMDE3MTA5Mi5wZGYmcGxhdGZvcm1JZD00Ng', 'msip_label_dd181445-6ec4-4473-9810-00785f082df0_actionid': '444c54a3-acea-481a-a036-d2b0cfddda97', 'msip_label_dd181445-6ec4-4473-9810-00785f082df0_contentbits': '0', 'msip_label_dd181445-6ec4-4473-9810-00785f082df0_enabled': 'true', 'msip_label_dd181445-6ec4-4473-9810-00785f082df0_method': 'Privileged', 'msip_label_dd181445-6ec4-4473-9810-00785f082df0_name': 'Internal', 'msip_label_dd181445-6ec4-4473-9810-00785f082df0_setdate': '2021-10-21T19:31:06Z', 'msip_label_dd181445-6ec4-4473-9810-00785f082df0_siteid': '1771ae17-e764-4e0f-a476-d4184d79a5d9', 'moddate': '2023-07-31T16:31:14-04:00', 'productcode': 'GPS', 'productfocus': 'OTHER', 'productid': 'GPSFocusReport', 'productlanguage': 'en', 'productpublishinggroup': 'GPS', 'productstream': 'FAVE', 'productsubtype': 'GPS', 'producttranslation': 'Original', 'pubdate': 'DD MMM YYYY', 'ra2k3templateid': '3EC72E8B-EA4A-4861-8EE8-543878F4CB5D', 'readingmode': '0', 'reportdate': 'July 2023', 'reportheadline': 'Report Headline', 'reporttitle': 'QUANTUM COMPUTING', 'rightswatchmark': '7|CITI-No PII-Public|{00000000-0000-0000-0000-000000000000}', 'sector': 'ECONOMICS', 'solution id': 'None', 'sourcemodified': 'D:20230731174850', 'templateversion': '1.0.1', 'title': 'QUANTUM COMPUTING:Moving Quickly From Theory to Reality', 'volumnissuenumber': 'V.1 Number 16', 'source': 'QUANTUM COMPUTING.pdf', 'total_pages': 152, 'page': 0, 'page_label': '1'}, page_content='Citi is one of the world’s largest financial institutions, operating in all major established and emerging markets. Across these world markets, our employees conduct \\nan ongoing multi-disciplinary conversation – accessing information, analyzing data, developing insights, and formulating advice. As our premier thought leadership \\nproduct, Citi GPS is designed to help our readers navigate the global economy’s most demanding challenges and to anticipate future themes and trends in a fast-changing and \\ninterconnected world. Citi GPS accesses the best elements of our global conversation and harvests the thought leadership of a wide range of senior professionals \\nacross our firm. This is not a research report and does not constitute advice on investments or a solicitations to buy or sell any financial instruments.  \\nFor more information on Citi GPS, please visit our website at www.citi.com/citigps.\\nCiti GPS: Global Perspectives & Solutions \\nJuly 2023\\nQUANTUM COMPUTING\\nMoving Quickly From Theory to Reality')"
      ]
     },
     "execution_count": 26,
     "metadata": {},
     "output_type": "execute_result"
    }
   ],
   "source": [
    "data = loader.load()\n",
    "data[0]"
   ]
  },
  {
   "cell_type": "code",
   "execution_count": 27,
   "id": "79a0b048",
   "metadata": {},
   "outputs": [
    {
     "data": {
      "text/plain": [
       "152"
      ]
     },
     "execution_count": 27,
     "metadata": {},
     "output_type": "execute_result"
    }
   ],
   "source": [
    "len(data)"
   ]
  },
  {
   "cell_type": "markdown",
   "id": "50397cbf",
   "metadata": {},
   "source": [
    " Metinleri parçalara ayırmak için RecursiveCharacterTextSplitter kullanacağız\n",
    "\n",
    "- Dil modelleri uzun metinleri okuyamaz, bu yüzden metni küçük parçalara (chunk'lara) ayırırız.\n",
    "- Böylece soru-cevaplar daha doğru, arama daha etkili olur.\n",
    "- Kısa parçalar, embedding kalitesini de artırır."
   ]
  },
  {
   "cell_type": "code",
   "execution_count": 28,
   "id": "12d83681",
   "metadata": {},
   "outputs": [
    {
     "name": "stdout",
     "output_type": "stream",
     "text": [
      "Total number of chunks: 473\n"
     ]
    }
   ],
   "source": [
    "from langchain_text_splitters import RecursiveCharacterTextSplitter\n",
    "text_splitter = RecursiveCharacterTextSplitter( chunk_size=1000)\n",
    "docs = text_splitter.split_documents(data)\n",
    "\n",
    "print(f\"Total number of chunks: {len(docs)}\")"
   ]
  },
  {
   "cell_type": "code",
   "execution_count": 29,
   "id": "5e20281c",
   "metadata": {},
   "outputs": [
    {
     "data": {
      "text/plain": [
       "Document(metadata={'producer': 'Aspose.Pdf.Kit for Java 4.3.0', 'creator': 'Acrobat PDFMaker 23 for Word', 'creationdate': '2023-07-31T13:50:09-04:00', 'author': 'Boyle, Kathleen [ICG-CGI]', 'basewrap': 'CIRB1130', 'ciradocversion': '2016', 'company': 'CITI', 'documentlcid': '1033', 'favesessionid': '41341115-d617-4955-b016-b8d6122842eb', 'gps': 'GPS', 'gpstext': 'GLOBAL POTENTIAL SOURCES', 'keywords': 'URL1=https://www.citivelocity.com/rendition/authfilelinksvcs/eppublic/V1/file?paramData=ZmlsZU5hbWU9L2dwcy9yc2NoX3BkZl8zMDE3MTA5Mi5wZGYmcGxhdGZvcm1JZD00Ng&&URL2=https://www.citivelocity.com/rendition/authfilelinksvcs/eppublic/V1/file?paramData=ZmlsZU5hbWU9L2dwcy9yc2NoX3BkZl8zMDE3MTA5Mi5wZGYmcGxhdGZvcm1JZD00Ng', 'msip_label_dd181445-6ec4-4473-9810-00785f082df0_actionid': '444c54a3-acea-481a-a036-d2b0cfddda97', 'msip_label_dd181445-6ec4-4473-9810-00785f082df0_contentbits': '0', 'msip_label_dd181445-6ec4-4473-9810-00785f082df0_enabled': 'true', 'msip_label_dd181445-6ec4-4473-9810-00785f082df0_method': 'Privileged', 'msip_label_dd181445-6ec4-4473-9810-00785f082df0_name': 'Internal', 'msip_label_dd181445-6ec4-4473-9810-00785f082df0_setdate': '2021-10-21T19:31:06Z', 'msip_label_dd181445-6ec4-4473-9810-00785f082df0_siteid': '1771ae17-e764-4e0f-a476-d4184d79a5d9', 'moddate': '2023-07-31T16:31:14-04:00', 'productcode': 'GPS', 'productfocus': 'OTHER', 'productid': 'GPSFocusReport', 'productlanguage': 'en', 'productpublishinggroup': 'GPS', 'productstream': 'FAVE', 'productsubtype': 'GPS', 'producttranslation': 'Original', 'pubdate': 'DD MMM YYYY', 'ra2k3templateid': '3EC72E8B-EA4A-4861-8EE8-543878F4CB5D', 'readingmode': '0', 'reportdate': 'July 2023', 'reportheadline': 'Report Headline', 'reporttitle': 'QUANTUM COMPUTING', 'rightswatchmark': '7|CITI-No PII-Public|{00000000-0000-0000-0000-000000000000}', 'sector': 'ECONOMICS', 'solution id': 'None', 'sourcemodified': 'D:20230731174850', 'templateversion': '1.0.1', 'title': 'QUANTUM COMPUTING:Moving Quickly From Theory to Reality', 'volumnissuenumber': 'V.1 Number 16', 'source': 'QUANTUM COMPUTING.pdf', 'total_pages': 152, 'page': 4, 'page_label': '5'}, page_content='© 2023 Citigroup\\nMANUFACTURING \\nAND LOGISTICS\\nENERGY \\nAND CLIMATE\\nGOVERNMENTS SHOULD:\\nFINANCE\\nHOW WILL QUANTUM COMPUTING DISRUPT INDUSTRY?\\nPREPARING FOR QUANTUM\\nQuantum computers will likely solve practical problems faster, cheaper, or more efficiently, than classical \\ncomputers in four broad areas — optimization, machine learning, simulations, and cryptography. Three of  \\nthese attributes offer significant upside for numerous industries, including Manufacturing & Logistics,  \\nArtificial Intelligence, Healthcare, Energy & Climate, and Finance. However, with cryptography, QCs pose a \\npotential threat to existing cryptographic standards that underpin computer systems and cryptocurrencies.\\nDue to the exponential scaling power of quantum computers, by the time they offer a practical advantage to \\nbusiness, the gap between early adopters and those using only classical computing will widen at an increasingly')"
      ]
     },
     "execution_count": 29,
     "metadata": {},
     "output_type": "execute_result"
    }
   ],
   "source": [
    "docs[10]"
   ]
  },
  {
   "cell_type": "code",
   "execution_count": 30,
   "id": "e46865f5",
   "metadata": {},
   "outputs": [
    {
     "data": {
      "text/plain": [
       "True"
      ]
     },
     "execution_count": 30,
     "metadata": {},
     "output_type": "execute_result"
    }
   ],
   "source": [
    "from langchain_chroma import Chroma\n",
    "from langchain_google_genai import GoogleGenerativeAIEmbeddings\n",
    "from dotenv import load_dotenv\n",
    "\n",
    "load_dotenv()"
   ]
  },
  {
   "cell_type": "markdown",
   "id": "5e8e0a79",
   "metadata": {},
   "source": [
    "GoogleGenerativeAIEmbeddings: Google’ın AI modelini kullanarak bir metni vektöre dönüştürür"
   ]
  },
  {
   "cell_type": "code",
   "execution_count": 31,
   "id": "fd1f7c5b",
   "metadata": {},
   "outputs": [
    {
     "data": {
      "text/plain": [
       "[0.05168594419956207,\n",
       " -0.030764883384108543,\n",
       " -0.03062233328819275,\n",
       " -0.02802734263241291,\n",
       " 0.01813093200325966]"
      ]
     },
     "execution_count": 31,
     "metadata": {},
     "output_type": "execute_result"
    }
   ],
   "source": [
    "embeddings = GoogleGenerativeAIEmbeddings(model=\"models/embedding-001\")\n",
    "vector = embeddings.embed_query(\"hello, world!\")\n",
    "vector[:5]"
   ]
  },
  {
   "cell_type": "code",
   "execution_count": 32,
   "id": "449031d2",
   "metadata": {},
   "outputs": [],
   "source": [
    "vector_store=Chroma.from_documents(embedding=embeddings, documents=docs)"
   ]
  },
  {
   "cell_type": "code",
   "execution_count": 33,
   "id": "2de5f64f",
   "metadata": {},
   "outputs": [],
   "source": [
    "retriever = vector_store.as_retriever(search_type=\"similarity\", search_kwargs={\"k\": 10})"
   ]
  },
  {
   "cell_type": "code",
   "execution_count": 34,
   "id": "bf85543c",
   "metadata": {},
   "outputs": [
    {
     "name": "stdout",
     "output_type": "stream",
     "text": [
      "Total number of chunks: 10\n",
      "2022 2023 2024 2025 2026 2027\n",
      "($bn)\n",
      "Range of Current TAM Forecasts (2022-27E)  \n",
      "Source: Industry forecasts\n",
      "10\n",
      "9\n",
      "8\n",
      "7\n",
      "6\n",
      "5\n",
      "4\n",
      "3\n",
      "2\n",
      "1\n",
      "0\n",
      "2.0\n",
      "1.5\n",
      "1.0\n",
      "0.5\n",
      "0.0\n",
      "2010 2011 2012 2013 2014 2015 2016 2017 2018 2019 2020 2021 2022\n",
      "Angel & Seed Early-stage VC Later-stage VC\n",
      "($bn)\n",
      "VC Investment in Quantum Computing (2010-22)  \n",
      "Source: PitchBook Data Inc.\n",
      "120\n",
      "100\n",
      "80\n",
      "60\n",
      "40\n",
      "20\n",
      "0\n",
      "2010 2011 2012 2013 2014 2015 2016 2017 2018 2019 2020 2021 2022\n",
      "($bn)\n",
      "VC Investment in Quantum Computing vs. Artificial Intelligence  \n",
      "Source: PitchBook Data Inc.\n",
      "Quantum Computers Artificial Intelligence\n",
      "THE QUANTUM COMPUTING OPPORTUNITY\n",
      "WHY QUANTUM COMPUTING IS A BIG DEAL\n",
      "Computing is at an inflection point. After five \n",
      "decades of increasing computational power  \n",
      "by Moore’s Law (i.e., doubling the number of \n",
      "transistors per chip every 2 years), the growth  \n",
      "rate of classical computing is reaching its physical \n",
      "limit. At the same time, the capabilities of quantum \n",
      "computers (QCs) are advancing at a “doubly\n"
     ]
    }
   ],
   "source": [
    "retrieved_docs = retriever.invoke(\"What is quantum computing?\")\n",
    "print(f\"Total number of chunks: {len(retrieved_docs)}\")\n",
    "print(retrieved_docs[5].page_content)"
   ]
  },
  {
   "cell_type": "markdown",
   "id": "e2ff2d30",
   "metadata": {},
   "source": [
    "Google Gemini API kullanarak LLM invoke"
   ]
  },
  {
   "cell_type": "code",
   "execution_count": 35,
   "id": "e1a98777",
   "metadata": {},
   "outputs": [],
   "source": [
    "from langchain_google_genai import ChatGoogleGenerativeAI\n",
    "\n",
    "llm = ChatGoogleGenerativeAI(\n",
    "    model=\"gemini-1.5-pro\",\n",
    "    temperature=0.3,\n",
    "    max_tokens=512,\n",
    "\n",
    ")"
   ]
  },
  {
   "cell_type": "code",
   "execution_count": 39,
   "id": "242852d2",
   "metadata": {},
   "outputs": [],
   "source": [
    "from langchain.chains import create_retrieval_chain\n",
    "from langchain_core.prompts import ChatPromptTemplate\n",
    "from langchain.chains.combine_documents import create_stuff_documents_chain"
   ]
  },
  {
   "cell_type": "code",
   "execution_count": null,
   "id": "aa0b005a",
   "metadata": {},
   "outputs": [],
   "source": [
    "system_prompt = (\n",
    "    \"You are a helpful assistant that provides information about quantum computing. \"\n",
    "    \"You will be provided with some documents and you will answer the user's question based on those documents. \"\n",
    "    \"If you don't know the answer, say 'I don't know'. \"\n",
    "    \"If the answer is not in the documents, say 'I don't know'. \"\n",
    "    \"If the answer is in the documents, provide a detailed answer. \"\n",
    "    \"Be concise and clear. \"\n",
    "    \"You can use the information from the documents.\\n\\n\"\n",
    "    \"The documents are: {context}\"\n",
    ")"
   ]
  },
  {
   "cell_type": "code",
   "execution_count": 38,
   "id": "e552698a",
   "metadata": {},
   "outputs": [],
   "source": [
    "prompt=ChatPromptTemplate.from_messages(\n",
    "    [\n",
    "    (\"system\",system_prompt),\n",
    "    (\"human\",\"{input}\")\n",
    "    ]\n",
    ")"
   ]
  },
  {
   "cell_type": "markdown",
   "id": "141f30c8",
   "metadata": {},
   "source": [
    "LLM+PROMT"
   ]
  },
  {
   "cell_type": "code",
   "execution_count": 40,
   "id": "a65ebfbc",
   "metadata": {},
   "outputs": [],
   "source": [
    "chain = create_stuff_documents_chain(llm, prompt)"
   ]
  },
  {
   "cell_type": "markdown",
   "id": "8f2c73d3",
   "metadata": {},
   "source": [
    "RAG+LLM"
   ]
  },
  {
   "cell_type": "code",
   "execution_count": 41,
   "id": "003e34df",
   "metadata": {},
   "outputs": [],
   "source": [
    "retrieval_chain = create_retrieval_chain(retriever, chain)"
   ]
  },
  {
   "cell_type": "code",
   "execution_count": 47,
   "id": "55765b7d",
   "metadata": {},
   "outputs": [
    {
     "name": "stdout",
     "output_type": "stream",
     "text": [
      "Quantum computing is the next phase of computing, moving from theoretical to practical. It harnesses the principles of quantum mechanics to perform tasks faster, more efficiently, and cheaper than classical computers.  Unlike classical computers that store information as bits representing 0 or 1, quantum computers use qubits. Qubits, through superposition, can be in a combination of both states (0 and 1) simultaneously.  Furthermore, quantum entanglement allows every additional qubit to double the potential states of a quantum computer. This allows quantum computers to tackle complex problems beyond the capabilities of classical computers.\n"
     ]
    }
   ],
   "source": [
    "response = retrieval_chain.invoke({\"input\":\"What is quantum computing?\"})\n",
    "print(response[\"answer\"])"
   ]
  },
  {
   "cell_type": "code",
   "execution_count": null,
   "id": "b2e36214",
   "metadata": {},
   "outputs": [],
   "source": []
  }
 ],
 "metadata": {
  "kernelspec": {
   "display_name": "chatbot-sAllwki4",
   "language": "python",
   "name": "python3"
  },
  "language_info": {
   "codemirror_mode": {
    "name": "ipython",
    "version": 3
   },
   "file_extension": ".py",
   "mimetype": "text/x-python",
   "name": "python",
   "nbconvert_exporter": "python",
   "pygments_lexer": "ipython3",
   "version": "3.10.0"
  }
 },
 "nbformat": 4,
 "nbformat_minor": 5
}
